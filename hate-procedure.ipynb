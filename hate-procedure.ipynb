{
 "cells": [
  {
   "cell_type": "markdown",
   "metadata": {},
   "source": [
    "# Hate Detection Procedure"
   ]
  },
  {
   "cell_type": "markdown",
   "metadata": {},
   "source": [
    "## Part 1: Preparing environment and data"
   ]
  },
  {
   "cell_type": "markdown",
   "metadata": {},
   "source": [
    "### Readying dependencies"
   ]
  },
  {
   "cell_type": "code",
   "execution_count": 2,
   "metadata": {},
   "outputs": [
    {
     "name": "stdout",
     "output_type": "stream",
     "text": [
      "Note: you may need to restart the kernel to use updated packages.\n"
     ]
    },
    {
     "name": "stderr",
     "output_type": "stream",
     "text": [
      "WARNING: Ignoring invalid distribution - (c:\\users\\miniconda3\\envs\\tf\\lib\\site-packages)\n",
      "WARNING: Ignoring invalid distribution -rotobuf (c:\\users\\miniconda3\\envs\\tf\\lib\\site-packages)\n",
      "ERROR: Could not find a version that satisfies the requirement pickle (from versions: none)\n",
      "ERROR: No matching distribution found for pickle\n"
     ]
    }
   ],
   "source": [
    "pip install -r requirements.txt"
   ]
  },
  {
   "cell_type": "code",
   "execution_count": 92,
   "metadata": {},
   "outputs": [
    {
     "name": "stderr",
     "output_type": "stream",
     "text": [
      "[nltk_data] Downloading package stopwords to C:\\Users\\My\n",
      "[nltk_data]     Pc\\AppData\\Roaming\\nltk_data...\n",
      "[nltk_data]   Package stopwords is already up-to-date!\n"
     ]
    }
   ],
   "source": [
    "import pandas as pd\n",
    "import seaborn as sns\n",
    "import matplotlib.pyplot as plt\n",
    "import nltk\n",
    "import pickle\n",
    "import numpy as np\n",
    "\n",
    "from sklearn.linear_model import LogisticRegression\n",
    "from sklearn.model_selection import train_test_split\n",
    "from sklearn.metrics import accuracy_score, confusion_matrix\n",
    "from tensorflow.keras.preprocessing.text import Tokenizer\n",
    "from tensorflow.keras.preprocessing.sequence import pad_sequences\n",
    "from tensorflow.keras import Sequential\n",
    "from tensorflow.keras import layers\n",
    "from tensorflow.keras.callbacks import EarlyStopping, ReduceLROnPlateau\n",
    "from tensorflow.keras.optimizers import Adam\n",
    "from tensorflow.keras.regularizers import L2\n",
    "\n",
    "from nltk.corpus import stopwords\n",
    "nltk.download('stopwords')\n",
    "\n",
    "import warnings\n",
    "warnings.filterwarnings('ignore')"
   ]
  },
  {
   "cell_type": "markdown",
   "metadata": {},
   "source": [
    "### Preprocessing"
   ]
  },
  {
   "cell_type": "code",
   "execution_count": 4,
   "metadata": {},
   "outputs": [
    {
     "data": {
      "text/html": [
       "<div>\n",
       "<style scoped>\n",
       "    .dataframe tbody tr th:only-of-type {\n",
       "        vertical-align: middle;\n",
       "    }\n",
       "\n",
       "    .dataframe tbody tr th {\n",
       "        vertical-align: top;\n",
       "    }\n",
       "\n",
       "    .dataframe thead th {\n",
       "        text-align: right;\n",
       "    }\n",
       "</style>\n",
       "<table border=\"1\" class=\"dataframe\">\n",
       "  <thead>\n",
       "    <tr style=\"text-align: right;\">\n",
       "      <th></th>\n",
       "      <th>Unnamed: 0</th>\n",
       "      <th>acl.id</th>\n",
       "      <th>X1</th>\n",
       "      <th>text</th>\n",
       "      <th>label</th>\n",
       "      <th>type</th>\n",
       "      <th>target</th>\n",
       "      <th>level</th>\n",
       "      <th>split</th>\n",
       "      <th>round.base</th>\n",
       "      <th>annotator</th>\n",
       "      <th>round</th>\n",
       "      <th>acl.id.matched</th>\n",
       "    </tr>\n",
       "  </thead>\n",
       "  <tbody>\n",
       "    <tr>\n",
       "      <th>0</th>\n",
       "      <td>1</td>\n",
       "      <td>acl1</td>\n",
       "      <td>1</td>\n",
       "      <td>dalits are lowlives</td>\n",
       "      <td>hate</td>\n",
       "      <td>notgiven</td>\n",
       "      <td>notgiven</td>\n",
       "      <td>original</td>\n",
       "      <td>train</td>\n",
       "      <td>1</td>\n",
       "      <td>GNZuCtwed3</td>\n",
       "      <td>1</td>\n",
       "      <td>NaN</td>\n",
       "    </tr>\n",
       "    <tr>\n",
       "      <th>1</th>\n",
       "      <td>2</td>\n",
       "      <td>acl10</td>\n",
       "      <td>2</td>\n",
       "      <td>gay people are a burden to our society</td>\n",
       "      <td>hate</td>\n",
       "      <td>notgiven</td>\n",
       "      <td>notgiven</td>\n",
       "      <td>original</td>\n",
       "      <td>train</td>\n",
       "      <td>1</td>\n",
       "      <td>GNZuCtwed3</td>\n",
       "      <td>1</td>\n",
       "      <td>NaN</td>\n",
       "    </tr>\n",
       "    <tr>\n",
       "      <th>2</th>\n",
       "      <td>3</td>\n",
       "      <td>acl100</td>\n",
       "      <td>3</td>\n",
       "      <td>Arabs are not welcome</td>\n",
       "      <td>hate</td>\n",
       "      <td>notgiven</td>\n",
       "      <td>notgiven</td>\n",
       "      <td>original</td>\n",
       "      <td>train</td>\n",
       "      <td>1</td>\n",
       "      <td>vDe7GN0NrL</td>\n",
       "      <td>1</td>\n",
       "      <td>NaN</td>\n",
       "    </tr>\n",
       "    <tr>\n",
       "      <th>3</th>\n",
       "      <td>4</td>\n",
       "      <td>acl1000</td>\n",
       "      <td>4</td>\n",
       "      <td>I'm not saying we should actually eliminate he...</td>\n",
       "      <td>hate</td>\n",
       "      <td>notgiven</td>\n",
       "      <td>notgiven</td>\n",
       "      <td>original</td>\n",
       "      <td>train</td>\n",
       "      <td>1</td>\n",
       "      <td>oemYWm1Tjg</td>\n",
       "      <td>1</td>\n",
       "      <td>NaN</td>\n",
       "    </tr>\n",
       "    <tr>\n",
       "      <th>4</th>\n",
       "      <td>5</td>\n",
       "      <td>acl10000</td>\n",
       "      <td>5</td>\n",
       "      <td>bananas are for black people</td>\n",
       "      <td>hate</td>\n",
       "      <td>notgiven</td>\n",
       "      <td>notgiven</td>\n",
       "      <td>original</td>\n",
       "      <td>test</td>\n",
       "      <td>1</td>\n",
       "      <td>QiOKkCi7F8</td>\n",
       "      <td>1</td>\n",
       "      <td>NaN</td>\n",
       "    </tr>\n",
       "  </tbody>\n",
       "</table>\n",
       "</div>"
      ],
      "text/plain": [
       "   Unnamed: 0    acl.id  X1  \\\n",
       "0           1      acl1   1   \n",
       "1           2     acl10   2   \n",
       "2           3    acl100   3   \n",
       "3           4   acl1000   4   \n",
       "4           5  acl10000   5   \n",
       "\n",
       "                                                text label      type  \\\n",
       "0                                dalits are lowlives  hate  notgiven   \n",
       "1             gay people are a burden to our society  hate  notgiven   \n",
       "2                              Arabs are not welcome  hate  notgiven   \n",
       "3  I'm not saying we should actually eliminate he...  hate  notgiven   \n",
       "4                       bananas are for black people  hate  notgiven   \n",
       "\n",
       "     target     level  split  round.base   annotator round acl.id.matched  \n",
       "0  notgiven  original  train           1  GNZuCtwed3     1            NaN  \n",
       "1  notgiven  original  train           1  GNZuCtwed3     1            NaN  \n",
       "2  notgiven  original  train           1  vDe7GN0NrL     1            NaN  \n",
       "3  notgiven  original  train           1  oemYWm1Tjg     1            NaN  \n",
       "4  notgiven  original   test           1  QiOKkCi7F8     1            NaN  "
      ]
     },
     "execution_count": 4,
     "metadata": {},
     "output_type": "execute_result"
    }
   ],
   "source": [
    "## Loading data\n",
    "# ## Ethos data\n",
    "# data = pd.read_csv(\"Ethos_Dataset_Binary.csv\", delimiter=';')\n",
    "# data.columns = ['text','label']\n",
    "# data['label'] =  data['label'].astype(int)\n",
    "\n",
    "## dyno data\n",
    "data = pd.read_csv(\"Dynamically Generated Hate Dataset v0.2.3.csv\")\n",
    "\n",
    "data.head()"
   ]
  },
  {
   "cell_type": "code",
   "execution_count": 5,
   "metadata": {},
   "outputs": [],
   "source": [
    "## converting labels to nothate = 0 and hate = 1    \n",
    "## dyna data\n",
    "def convert_labels(label):\n",
    "    if label == \"hate\": return 1\n",
    "    elif label == \"nothate\": return 0\n",
    "    else: raise Exception(\"WRONG LABEL\")\n",
    "\n",
    "data['label'] = data['label'].apply(lambda x: convert_labels(x))\n"
   ]
  },
  {
   "cell_type": "code",
   "execution_count": 6,
   "metadata": {},
   "outputs": [
    {
     "data": {
      "image/png": "[encoded data removed]",
      "text/plain": [
       "<Figure size 640x480 with 1 Axes>"
      ]
     },
     "metadata": {},
     "output_type": "display_data"
    }
   ],
   "source": [
    "##  Visualizing distribution of data\n",
    "colors = sns.color_palette('pastel')[1:3]\n",
    "values = data['label'].value_counts().values\n",
    "labels =  data['label'].value_counts().index\n",
    "plt.pie(x=values, labels=labels, colors=colors, autopct='%.2f%%')\n",
    "plt.title(\"Distribution of data\")\n",
    "plt.show()"
   ]
  },
  {
   "cell_type": "code",
   "execution_count": 7,
   "metadata": {},
   "outputs": [
    {
     "data": {
      "image/png": "[encoded data removed]",
      "text/plain": [
       "<Figure size 640x480 with 1 Axes>"
      ]
     },
     "metadata": {},
     "output_type": "display_data"
    }
   ],
   "source": [
    "# Downsampling to balance the dataset\n",
    "\n",
    "## dyna data\n",
    "hate_msg = data[data.label == 1][['text','label']]\n",
    "nothate_msg = data[data.label == 0][['text','label']]\n",
    "hate_msg = hate_msg.sample(n=len(nothate_msg), random_state=42)\n",
    "\n",
    "# ## ethos data\n",
    "# hate_msg = data[data.label == 1][['text','label']]\n",
    "# nothate_msg = data[data.label == 0][['text','label']]\n",
    "# nothate_msg = nothate_msg.sample(n=len(hate_msg), random_state=42)\n",
    "\n",
    "## Creating new balanced dataset\n",
    "new_data = pd.concat([hate_msg, nothate_msg], ignore_index=True)\n",
    "\n",
    "# Plotting the counts of down sampled dataset\n",
    "##  Visualizing distribution of data\n",
    "colors = sns.color_palette('pastel')[1:3]\n",
    "values = new_data['label'].value_counts().values\n",
    "labels = new_data['label'].value_counts().index\n",
    "\n",
    "plt.pie(x=values, labels=labels, colors=colors, autopct='%.2f%%')\n",
    "plt.title(\"Distribution of data\")\n",
    "plt.show()"
   ]
  },
  {
   "cell_type": "code",
   "execution_count": 8,
   "metadata": {},
   "outputs": [
    {
     "data": {
      "text/html": [
       "<div>\n",
       "<style scoped>\n",
       "    .dataframe tbody tr th:only-of-type {\n",
       "        vertical-align: middle;\n",
       "    }\n",
       "\n",
       "    .dataframe tbody tr th {\n",
       "        vertical-align: top;\n",
       "    }\n",
       "\n",
       "    .dataframe thead th {\n",
       "        text-align: right;\n",
       "    }\n",
       "</style>\n",
       "<table border=\"1\" class=\"dataframe\">\n",
       "  <thead>\n",
       "    <tr style=\"text-align: right;\">\n",
       "      <th></th>\n",
       "      <th>text</th>\n",
       "      <th>label</th>\n",
       "    </tr>\n",
       "  </thead>\n",
       "  <tbody>\n",
       "    <tr>\n",
       "      <th>29131</th>\n",
       "      <td>hello reddit, I'm a non-Arab and I hate almost...</td>\n",
       "      <td>1</td>\n",
       "    </tr>\n",
       "    <tr>\n",
       "      <th>27413</th>\n",
       "      <td>Tell me how many of my brothas fell victim to ...</td>\n",
       "      <td>1</td>\n",
       "    </tr>\n",
       "    <tr>\n",
       "      <th>21452</th>\n",
       "      <td>I would be accepting this Vaccine to assist in...</td>\n",
       "      <td>1</td>\n",
       "    </tr>\n",
       "    <tr>\n",
       "      <th>4688</th>\n",
       "      <td>basketball team is only for tall people and Ch...</td>\n",
       "      <td>1</td>\n",
       "    </tr>\n",
       "    <tr>\n",
       "      <th>38629</th>\n",
       "      <td>White races are higher quality stock than dark</td>\n",
       "      <td>1</td>\n",
       "    </tr>\n",
       "    <tr>\n",
       "      <th>...</th>\n",
       "      <td>...</td>\n",
       "      <td>...</td>\n",
       "    </tr>\n",
       "    <tr>\n",
       "      <th>5391</th>\n",
       "      <td>These daaaarkies should be removed from this w...</td>\n",
       "      <td>1</td>\n",
       "    </tr>\n",
       "    <tr>\n",
       "      <th>7227</th>\n",
       "      <td>Black barbies always complain dolls don't come...</td>\n",
       "      <td>1</td>\n",
       "    </tr>\n",
       "    <tr>\n",
       "      <th>11020</th>\n",
       "      <td>this trashy immigrant should be deported with ...</td>\n",
       "      <td>1</td>\n",
       "    </tr>\n",
       "    <tr>\n",
       "      <th>9399</th>\n",
       "      <td>Niggers are the lowest scum of earth. Every fu...</td>\n",
       "      <td>1</td>\n",
       "    </tr>\n",
       "    <tr>\n",
       "      <th>34417</th>\n",
       "      <td>When will people understand that mixed marriag...</td>\n",
       "      <td>1</td>\n",
       "    </tr>\n",
       "  </tbody>\n",
       "</table>\n",
       "<p>18969 rows × 2 columns</p>\n",
       "</div>"
      ],
      "text/plain": [
       "                                                    text  label\n",
       "29131  hello reddit, I'm a non-Arab and I hate almost...      1\n",
       "27413  Tell me how many of my brothas fell victim to ...      1\n",
       "21452  I would be accepting this Vaccine to assist in...      1\n",
       "4688   basketball team is only for tall people and Ch...      1\n",
       "38629     White races are higher quality stock than dark      1\n",
       "...                                                  ...    ...\n",
       "5391   These daaaarkies should be removed from this w...      1\n",
       "7227   Black barbies always complain dolls don't come...      1\n",
       "11020  this trashy immigrant should be deported with ...      1\n",
       "9399   Niggers are the lowest scum of earth. Every fu...      1\n",
       "34417  When will people understand that mixed marriag...      1\n",
       "\n",
       "[18969 rows x 2 columns]"
      ]
     },
     "execution_count": 8,
     "metadata": {},
     "output_type": "execute_result"
    }
   ],
   "source": [
    "hate_msg"
   ]
  },
  {
   "cell_type": "code",
   "execution_count": 9,
   "metadata": {},
   "outputs": [
    {
     "data": {
      "text/plain": [
       "0    hello reddit, I'm a non-Arab and I hate almost...\n",
       "1    Tell me how many of my brothas fell victim to ...\n",
       "2    I would be accepting this Vaccine to assist in...\n",
       "3    basketball team is only for tall people and Ch...\n",
       "4       White races are higher quality stock than dark\n",
       "Name: text, dtype: object"
      ]
     },
     "execution_count": 9,
     "metadata": {},
     "output_type": "execute_result"
    }
   ],
   "source": [
    "## Getting Texts\n",
    "text_data = new_data['text']\n",
    "text_data[:5]"
   ]
  },
  {
   "cell_type": "code",
   "execution_count": 10,
   "metadata": {},
   "outputs": [
    {
     "data": {
      "text/plain": [
       "0    1\n",
       "1    1\n",
       "2    1\n",
       "3    1\n",
       "4    1\n",
       "Name: label, dtype: int64"
      ]
     },
     "execution_count": 10,
     "metadata": {},
     "output_type": "execute_result"
    }
   ],
   "source": [
    "## Getting labels\n",
    "clean_label_data = new_data['label']\n",
    "clean_label_data[:5]"
   ]
  },
  {
   "cell_type": "code",
   "execution_count": 162,
   "metadata": {},
   "outputs": [],
   "source": [
    "## Function to remove stopwords from sentences\n",
    "def remove_stopwords(text):\n",
    "    stop_words = stopwords.words('english')\n",
    "    temp = ' '.join([word for word in text.split() if word not in stop_words])\n",
    "    return temp\n",
    "\n",
    "## Function to remove special characters from sentences\n",
    "def remove_special(text):\n",
    "    special_char = ['%','$','#','@','^','_','*','?',';',':','.',',',\"'\",'=','’']\n",
    "    for char in special_char:\n",
    "        text = text.replace(char,'')\n",
    "    return text\n",
    "    \n",
    "clean_text_data = text_data.apply(lambda x: remove_special(x)).apply(lambda x: remove_stopwords(x))"
   ]
  },
  {
   "cell_type": "code",
   "execution_count": 272,
   "metadata": {},
   "outputs": [],
   "source": [
    "## function to remove short datapoints\n",
    "def remove_short(texts, labels, length = 2):\n",
    "    temp_texts = []\n",
    "    temp_labels = []\n",
    "    for i,text in enumerate(texts):\n",
    "        words = text.split(\" \")\n",
    "        num_words = len(words)\n",
    "        if num_words >= length:\n",
    "            temp_texts.append(text)\n",
    "            temp_labels.append(labels[i])\n",
    "        else:\n",
    "            pass\n",
    "    temp_texts = pd.Series(temp_texts)\n",
    "    temp_labels = pd.Series(temp_labels)\n",
    "    return temp_texts, temp_labels\n",
    "\n",
    "long_clean_text_data, long_clean_label_data = remove_short(clean_text_data,clean_label_data)"
   ]
  },
  {
   "cell_type": "code",
   "execution_count": 273,
   "metadata": {},
   "outputs": [
    {
     "data": {
      "text/plain": [
       "0    hello reddit Im non-Arab I hate almost everyth...\n",
       "1    Tell many brothas fell victim streets Now rest...\n",
       "2    I would accepting Vaccine assist depopulation ...\n",
       "3    basketball team tall people Chinese short bett...\n",
       "4                White races higher quality stock dark\n",
       "dtype: object"
      ]
     },
     "execution_count": 273,
     "metadata": {},
     "output_type": "execute_result"
    }
   ],
   "source": [
    "long_clean_text_data[:5]"
   ]
  },
  {
   "cell_type": "code",
   "execution_count": 274,
   "metadata": {},
   "outputs": [
    {
     "name": "stdout",
     "output_type": "stream",
     "text": [
      "# of words in longest data point: 229\n"
     ]
    }
   ],
   "source": [
    "## Longest word in data\n",
    "longest_data = len(long_clean_text_data[long_clean_text_data.str.len().idxmax()].split(' '))\n",
    "print(\"# of words in longest data point:\", longest_data)"
   ]
  },
  {
   "cell_type": "code",
   "execution_count": 275,
   "metadata": {},
   "outputs": [],
   "source": [
    "## Count of words per data point\n",
    "num_words=[]\n",
    "for i in long_clean_text_data:\n",
    "    num_words.append(len(i.split(' ')))\n",
    "\n",
    "## sorting number of words\n",
    "num_words.sort()"
   ]
  },
  {
   "cell_type": "code",
   "execution_count": 276,
   "metadata": {},
   "outputs": [
    {
     "data": {
      "text/plain": [
       "14.075211193241817"
      ]
     },
     "execution_count": 276,
     "metadata": {},
     "output_type": "execute_result"
    }
   ],
   "source": [
    "## average length of words\n",
    "np.average(num_words)"
   ]
  },
  {
   "cell_type": "code",
   "execution_count": 277,
   "metadata": {},
   "outputs": [
    {
     "data": {
      "text/plain": [
       "10.0"
      ]
     },
     "execution_count": 277,
     "metadata": {},
     "output_type": "execute_result"
    }
   ],
   "source": [
    "## median of length of words\n",
    "np.median(num_words)"
   ]
  },
  {
   "cell_type": "code",
   "execution_count": 278,
   "metadata": {},
   "outputs": [],
   "source": [
    "## Setting max len for inputs\n",
    "max_len = 12"
   ]
  },
  {
   "cell_type": "markdown",
   "metadata": {},
   "source": [
    "## Part 2: Machine Learning Development"
   ]
  },
  {
   "cell_type": "markdown",
   "metadata": {},
   "source": [
    "### Creating Train and Test sets"
   ]
  },
  {
   "cell_type": "code",
   "execution_count": 279,
   "metadata": {},
   "outputs": [],
   "source": [
    "## Splitting train and test data\n",
    "train_X, test_X, train_y, test_y = train_test_split(long_clean_text_data,    # x data                                       \n",
    "                                                    long_clean_label_data,   # y data\n",
    "                                                    test_size=0.2,      #in percentage\n",
    "                                                    random_state = 42   #for reproducibility\n",
    "                                                    )"
   ]
  },
  {
   "cell_type": "code",
   "execution_count": 280,
   "metadata": {},
   "outputs": [
    {
     "name": "stdout",
     "output_type": "stream",
     "text": [
      "Number of training data:  30304\n",
      "Number of test data:  7576\n"
     ]
    }
   ],
   "source": [
    "## Showing size of training and test data\n",
    "print(\"Number of training data: \", len(train_X))\n",
    "print(\"Number of test data: \", len(test_X))"
   ]
  },
  {
   "cell_type": "code",
   "execution_count": 281,
   "metadata": {},
   "outputs": [
    {
     "name": "stdout",
     "output_type": "stream",
     "text": [
      "TRAIN X\n",
      "26281    I fear entered world thieves scum use disposal...\n",
      "22232    You killing here!! Of course I think businessm...\n",
      "37801                                going dads house shit\n",
      "8170     I feel bad girl But kind dumb post rant Intern...\n",
      "19139                                      That chair vile\n",
      "dtype: object\n",
      "TRAIN Y\n",
      "26281    0\n",
      "22232    0\n",
      "37801    0\n",
      "8170     1\n",
      "19139    0\n",
      "dtype: int64\n"
     ]
    }
   ],
   "source": [
    "## Showing training data\n",
    "print(\"TRAIN X\")\n",
    "print(train_X[:5])\n",
    "print(\"TRAIN Y\")\n",
    "print(train_y[:5])"
   ]
  },
  {
   "cell_type": "code",
   "execution_count": 282,
   "metadata": {},
   "outputs": [
    {
     "name": "stdout",
     "output_type": "stream",
     "text": [
      "TEST X\n",
      "6892     Black people play minority oppression card get...\n",
      "36955                                       laptop useless\n",
      "8101                        gay people real threat society\n",
      "35971                 I dont think fucking monkey types UK\n",
      "34862    FDA warns contaminated hand sanitizers make go...\n",
      "dtype: object\n",
      "TEST Y\n",
      "6892     1\n",
      "36955    0\n",
      "8101     1\n",
      "35971    0\n",
      "34862    0\n",
      "dtype: int64\n"
     ]
    }
   ],
   "source": [
    "## Showing test data\n",
    "print(\"TEST X\")\n",
    "print(test_X[:5])\n",
    "print(\"TEST Y\")\n",
    "print(test_y[:5])"
   ]
  },
  {
   "cell_type": "markdown",
   "metadata": {},
   "source": [
    "### Tokenizing data (similar to vectorizing)"
   ]
  },
  {
   "cell_type": "code",
   "execution_count": 312,
   "metadata": {},
   "outputs": [],
   "source": [
    "\n",
    "# Tokenize the text data\n",
    "tokenizer = Tokenizer(oov_token=\"<OOV>\", lower=False)\n",
    "tokenizer.fit_on_texts(train_X)\n",
    "\n",
    "def text_tokenizer(text, tokenizer, max_len):\n",
    "    tokenizer = tokenizer\n",
    "    sequences = tokenizer.texts_to_sequences(text)\n",
    "    padded_sequences = pad_sequences(sequences,\n",
    "                                        maxlen=max_len,\n",
    "                                        padding='post', \n",
    "                                        truncating='post'\n",
    "                                        )\n",
    "    return padded_sequences\n",
    "\n",
    "train_sequences = text_tokenizer(train_X, tokenizer, max_len)\n",
    "test_sequences = text_tokenizer(test_X, tokenizer, max_len)"
   ]
  },
  {
   "cell_type": "code",
   "execution_count": 313,
   "metadata": {},
   "outputs": [
    {
     "name": "stdout",
     "output_type": "stream",
     "text": [
      "[    2   720  4392    44  2674   274   125 10815  1347   874  4142   190]\n",
      "[  37  621 1727  826  322    2   12 4393  477   23  382 1168]\n",
      "[  48 5378  262   23    0    0    0    0    0    0    0    0]\n",
      "[   2   72  113  231   53  210  366  452 4681 4682  135  240]\n",
      "[ 171 2305  793    0    0    0    0    0    0    0    0    0]\n"
     ]
    }
   ],
   "source": [
    "## displaying sample sequences\n",
    "for i in range(5):\n",
    "    print(train_sequences[i])"
   ]
  },
  {
   "cell_type": "markdown",
   "metadata": {},
   "source": [
    "### Training Machine Learning"
   ]
  },
  {
   "cell_type": "code",
   "execution_count": 314,
   "metadata": {},
   "outputs": [],
   "source": [
    "## Initializing logistic regression model\n",
    "log_reg = LogisticRegression(random_state=42,\n",
    "                                solver='liblinear',\n",
    "                                # penalty='l2',\n",
    "                                # C=1e-2,\n",
    "                                # max_iter=50,\n",
    "                                )"
   ]
  },
  {
   "cell_type": "code",
   "execution_count": 315,
   "metadata": {},
   "outputs": [
    {
     "name": "stdout",
     "output_type": "stream",
     "text": [
      "Train Accuracy: 52.36%\n"
     ]
    }
   ],
   "source": [
    "## Training model\n",
    "log_reg.fit(train_sequences, train_y)\n",
    "\n",
    "## Showing score of training\n",
    "print(f'Train Accuracy: {100*log_reg.score(train_sequences, train_y):.2f}%')"
   ]
  },
  {
   "cell_type": "code",
   "execution_count": 316,
   "metadata": {},
   "outputs": [
    {
     "name": "stdout",
     "output_type": "stream",
     "text": [
      "Train Accuracy: 51.39%\n"
     ]
    }
   ],
   "source": [
    "## Showing score of testing\n",
    "print(f'Train Accuracy: {100*log_reg.score(test_sequences, test_y):.2f}%')"
   ]
  },
  {
   "cell_type": "code",
   "execution_count": 317,
   "metadata": {},
   "outputs": [
    {
     "data": {
      "text/plain": [
       "<Axes: >"
      ]
     },
     "execution_count": 317,
     "metadata": {},
     "output_type": "execute_result"
    },
    {
     "data": {
      "image/png": "[encoded data removed]",
      "text/plain": [
       "<Figure size 640x480 with 2 Axes>"
      ]
     },
     "metadata": {},
     "output_type": "display_data"
    }
   ],
   "source": [
    "## Creating confusion matrix\n",
    "y_predictions = log_reg.predict(test_sequences)\n",
    "cf = confusion_matrix(y_predictions, test_y)\n",
    "sns.heatmap(cf, annot=True)"
   ]
  },
  {
   "cell_type": "markdown",
   "metadata": {},
   "source": [
    "### Training Neural Network\n"
   ]
  },
  {
   "cell_type": "code",
   "execution_count": 318,
   "metadata": {},
   "outputs": [],
   "source": [
    "## Defining sequential model\n",
    "model = Sequential()\n",
    "\n",
    "## Adding layers to model architecture\n",
    "model.add(layers.Embedding(input_dim=len(tokenizer.word_index) + 1,\n",
    "                                    output_dim=32, \n",
    "                                    input_length=max_len))\n",
    "# model.add(layers.Bidirectional(layers.LSTM(128,return_sequences=True)))\n",
    "# model.add(layers.Bidirectional(layers.LSTM(16,return_sequences=True)))\n",
    "# model.add(layers.Dropout(0.4))\n",
    "model.add(layers.Bidirectional(layers.LSTM(8)))\n",
    "model.add(layers.Dropout(0.4))\n",
    "\n",
    "model.add(layers.Dense(128, activation='relu'))\n",
    "# model.add(layers.Dropout(0.5))\n",
    "model.add(layers.Dense(1, activation='sigmoid'))"
   ]
  },
  {
   "cell_type": "code",
   "execution_count": 319,
   "metadata": {},
   "outputs": [
    {
     "name": "stdout",
     "output_type": "stream",
     "text": [
      "Model: \"sequential_25\"\n",
      "_________________________________________________________________\n",
      " Layer (type)                Output Shape              Param #   \n",
      "=================================================================\n",
      " embedding_25 (Embedding)    (None, 12, 32)            987392    \n",
      "                                                                 \n",
      " bidirectional_46 (Bidirecti  (None, 16)               2624      \n",
      " onal)                                                           \n",
      "                                                                 \n",
      " dropout_55 (Dropout)        (None, 16)                0         \n",
      "                                                                 \n",
      " dense_50 (Dense)            (None, 128)               2176      \n",
      "                                                                 \n",
      " dense_51 (Dense)            (None, 1)                 129       \n",
      "                                                                 \n",
      "=================================================================\n",
      "Total params: 992,321\n",
      "Trainable params: 992,321\n",
      "Non-trainable params: 0\n",
      "_________________________________________________________________\n"
     ]
    }
   ],
   "source": [
    "# Print the model summary\n",
    "model.summary()"
   ]
  },
  {
   "cell_type": "code",
   "execution_count": 320,
   "metadata": {},
   "outputs": [],
   "source": [
    "## Compiling model with loss and optimizer\n",
    "model.compile(loss = 'binary_crossentropy',\n",
    "              metrics = ['accuracy'],\n",
    "              optimizer = Adam(1e-4))"
   ]
  },
  {
   "cell_type": "code",
   "execution_count": 321,
   "metadata": {},
   "outputs": [
    {
     "name": "stdout",
     "output_type": "stream",
     "text": [
      "Epoch 1/128\n",
      "947/947 [==============================] - 10s 8ms/step - loss: 0.6908 - accuracy: 0.5469 - val_loss: 0.6815 - val_accuracy: 0.6015 - lr: 1.0000e-04\n",
      "Epoch 2/128\n",
      "947/947 [==============================] - 7s 7ms/step - loss: 0.6436 - accuracy: 0.6435 - val_loss: 0.6407 - val_accuracy: 0.6125 - lr: 1.0000e-04\n",
      "Epoch 3/128\n",
      "947/947 [==============================] - 7s 7ms/step - loss: 0.5777 - accuracy: 0.6942 - val_loss: 0.6366 - val_accuracy: 0.6056 - lr: 1.0000e-04\n",
      "Epoch 4/128\n",
      "947/947 [==============================] - 7s 7ms/step - loss: 0.5307 - accuracy: 0.7312 - val_loss: 0.6597 - val_accuracy: 0.6015 - lr: 1.0000e-04\n",
      "Epoch 5/128\n",
      "947/947 [==============================] - 7s 7ms/step - loss: 0.4928 - accuracy: 0.7556 - val_loss: 0.6902 - val_accuracy: 0.5952 - lr: 1.0000e-04\n",
      "Epoch 6/128\n",
      "947/947 [==============================] - 7s 7ms/step - loss: 0.4465 - accuracy: 0.7906 - val_loss: 0.7154 - val_accuracy: 0.5981 - lr: 1.0000e-05\n",
      "Epoch 7/128\n",
      "947/947 [==============================] - 7s 7ms/step - loss: 0.4405 - accuracy: 0.7939 - val_loss: 0.7347 - val_accuracy: 0.5958 - lr: 1.0000e-05\n"
     ]
    }
   ],
   "source": [
    "## Defining callbacks\n",
    "es = EarlyStopping(patience=5,\n",
    "                   monitor = 'val_accuracy',\n",
    "                   restore_best_weights = True)\n",
    " \n",
    "lr = ReduceLROnPlateau(patience = 2,\n",
    "                       monitor = 'val_loss',\n",
    "                       factor = 0.1,\n",
    "                       verbose = 0,\n",
    "                       min_lr=1e-7)\n",
    "\n",
    "# Train the model\n",
    "history = model.fit(train_sequences, train_y,\n",
    "                    validation_data=(test_sequences, test_y),\n",
    "                    epochs=128, \n",
    "                    batch_size=32,\n",
    "                    callbacks = [lr, es]\n",
    "                   )"
   ]
  },
  {
   "cell_type": "markdown",
   "metadata": {},
   "source": [
    "## Part 3: Evaluation and Saving"
   ]
  },
  {
   "cell_type": "markdown",
   "metadata": {},
   "source": [
    "### Displaying Results"
   ]
  },
  {
   "cell_type": "code",
   "execution_count": 322,
   "metadata": {},
   "outputs": [
    {
     "data": {
      "image/png": "[encoded data removed]",
      "text/plain": [
       "<Figure size 640x480 with 1 Axes>"
      ]
     },
     "metadata": {},
     "output_type": "display_data"
    }
   ],
   "source": [
    "plt.plot(history.history['accuracy'], label='Training Accuracy')\n",
    "plt.plot(history.history['val_accuracy'], label='Validation Accuracy')\n",
    "plt.title('Model Accuracy')\n",
    "plt.ylabel('Accuracy')\n",
    "plt.xlabel('Epoch')\n",
    "plt.legend()\n",
    "plt.show()"
   ]
  },
  {
   "cell_type": "code",
   "execution_count": 323,
   "metadata": {},
   "outputs": [
    {
     "data": {
      "image/png": "[encoded data removed]",
      "text/plain": [
       "<Figure size 640x480 with 1 Axes>"
      ]
     },
     "metadata": {},
     "output_type": "display_data"
    }
   ],
   "source": [
    "plt.plot(history.history['loss'], label='Training Loss')\n",
    "plt.plot(history.history['val_loss'], label='Validation Loss')\n",
    "plt.title('Model Loss')\n",
    "plt.ylabel('Loss')\n",
    "plt.xlabel('Epoch')\n",
    "plt.legend()\n",
    "plt.show()"
   ]
  },
  {
   "cell_type": "markdown",
   "metadata": {},
   "source": [
    "### Testing"
   ]
  },
  {
   "cell_type": "code",
   "execution_count": 324,
   "metadata": {},
   "outputs": [],
   "source": [
    "test_labels = ['not hate','hate']"
   ]
  },
  {
   "cell_type": "code",
   "execution_count": 325,
   "metadata": {},
   "outputs": [
    {
     "name": "stdout",
     "output_type": "stream",
     "text": [
      "WARNING:tensorflow:6 out of the last 21 calls to <function Model.make_predict_function.<locals>.predict_function at 0x000002094E1DCE50> triggered tf.function retracing. Tracing is expensive and the excessive number of tracings could be due to (1) creating @tf.function repeatedly in a loop, (2) passing tensors with different shapes, (3) passing Python objects instead of tensors. For (1), please define your @tf.function outside of the loop. For (2), @tf.function has reduce_retracing=True option that can avoid unnecessary retracing. For (3), please refer to https://www.tensorflow.org/guide/function#controlling_retracing and https://www.tensorflow.org/api_docs/python/tf/function for  more details.\n",
      "1/1 [==============================] - 0s 442ms/step\n",
      "True answer hate\n",
      "Predicted answer not hate 0.26577395\n"
     ]
    }
   ],
   "source": [
    "test_input = \"I dont fucking know what to do with you just die already! You've been kinda useless to be honest.\"\n",
    "true_y = 1 # hate\n",
    "\n",
    "clean_test_input = remove_stopwords(test_input)\n",
    "clean_test_input = remove_special(test_input)\n",
    "sequence_clean_test_input = text_tokenizer([clean_test_input], tokenizer, max_len)\n",
    "\n",
    "result = model.predict(sequence_clean_test_input)\n",
    "round_result = int(result[0].round())\n",
    "\n",
    "print(\"True answer\",test_labels[true_y])\n",
    "print(\"Predicted answer\",test_labels[round_result], result[0][0])"
   ]
  },
  {
   "cell_type": "code",
   "execution_count": 326,
   "metadata": {},
   "outputs": [
    {
     "name": "stdout",
     "output_type": "stream",
     "text": [
      "1/1 [==============================] - 0s 19ms/step\n",
      "True answer not hate\n",
      "Predicted answer not hate 0.49590313\n"
     ]
    }
   ],
   "source": [
    "test_input = \"I hope it's allowed to be absent tomoorow. I don't know what to do at the next class honestly!\"\n",
    "true_y = 0 # not hate\n",
    "\n",
    "clean_test_input = remove_stopwords(test_input)\n",
    "clean_test_input = remove_special(test_input)\n",
    "sequence_clean_test_input = text_tokenizer([clean_test_input], tokenizer, max_len)\n",
    "\n",
    "result = model.predict(sequence_clean_test_input)\n",
    "round_result = int(result[0].round())\n",
    "\n",
    "print(\"True answer\",test_labels[true_y])\n",
    "print(\"Predicted answer\",test_labels[round_result], result[0][0])"
   ]
  },
  {
   "cell_type": "markdown",
   "metadata": {},
   "source": [
    "### Saving Model"
   ]
  },
  {
   "cell_type": "code",
   "execution_count": null,
   "metadata": {},
   "outputs": [],
   "source": []
  }
 ],
 "metadata": {
  "kernelspec": {
   "display_name": "Python 3",
   "language": "python",
   "name": "python3"
  },
  "language_info": {
   "codemirror_mode": {
    "name": "ipython",
    "version": 3
   },
   "file_extension": ".py",
   "mimetype": "text/x-python",
   "name": "python",
   "nbconvert_exporter": "python",
   "pygments_lexer": "ipython3",
   "version": "3.9.13"
  }
 },
 "nbformat": 4,
 "nbformat_minor": 2
}
