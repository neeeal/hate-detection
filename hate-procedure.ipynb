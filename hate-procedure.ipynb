{
 "cells": [
  {
   "cell_type": "markdown",
   "metadata": {},
   "source": [
    "# Hate Detection Procedure"
   ]
  },
  {
   "cell_type": "markdown",
   "metadata": {},
   "source": [
    "## Part 1: Preparing environment and data"
   ]
  },
  {
   "cell_type": "markdown",
   "metadata": {},
   "source": [
    "### Readying dependencies"
   ]
  },
  {
   "cell_type": "code",
   "execution_count": null,
   "metadata": {},
   "outputs": [],
   "source": [
    "pip install -r requirements.txt"
   ]
  },
  {
   "cell_type": "code",
   "execution_count": 120,
   "metadata": {},
   "outputs": [
    {
     "name": "stderr",
     "output_type": "stream",
     "text": [
      "[nltk_data] Downloading package stopwords to C:\\Users\\My\n",
      "[nltk_data]     Pc\\AppData\\Roaming\\nltk_data...\n",
      "[nltk_data]   Package stopwords is already up-to-date!\n"
     ]
    }
   ],
   "source": [
    "import pandas as pd\n",
    "import seaborn as sns\n",
    "import matplotlib.pyplot as plt\n",
    "import nltk\n",
    "import pickle\n",
    "\n",
    "from sklearn.linear_model import LogisticRegression\n",
    "from sklearn.model_selection import train_test_split\n",
    "from sklearn.metrics import accuracy_score, confusion_matrix\n",
    "from tensorflow.keras.preprocessing.text import Tokenizer\n",
    "from tensorflow.keras.preprocessing.sequence import pad_sequences\n",
    "\n",
    "from nltk.corpus import stopwords\n",
    "nltk.download('stopwords')\n",
    "\n",
    "import warnings\n",
    "warnings.filterwarnings('ignore')"
   ]
  },
  {
   "cell_type": "markdown",
   "metadata": {},
   "source": [
    "### Preprocessing"
   ]
  },
  {
   "cell_type": "code",
   "execution_count": 3,
   "metadata": {},
   "outputs": [
    {
     "data": {
      "text/html": [
       "<div>\n",
       "<style scoped>\n",
       "    .dataframe tbody tr th:only-of-type {\n",
       "        vertical-align: middle;\n",
       "    }\n",
       "\n",
       "    .dataframe tbody tr th {\n",
       "        vertical-align: top;\n",
       "    }\n",
       "\n",
       "    .dataframe thead th {\n",
       "        text-align: right;\n",
       "    }\n",
       "</style>\n",
       "<table border=\"1\" class=\"dataframe\">\n",
       "  <thead>\n",
       "    <tr style=\"text-align: right;\">\n",
       "      <th></th>\n",
       "      <th>Unnamed: 0</th>\n",
       "      <th>acl.id</th>\n",
       "      <th>X1</th>\n",
       "      <th>text</th>\n",
       "      <th>label</th>\n",
       "      <th>type</th>\n",
       "      <th>target</th>\n",
       "      <th>level</th>\n",
       "      <th>split</th>\n",
       "      <th>round.base</th>\n",
       "      <th>annotator</th>\n",
       "      <th>round</th>\n",
       "      <th>acl.id.matched</th>\n",
       "    </tr>\n",
       "  </thead>\n",
       "  <tbody>\n",
       "    <tr>\n",
       "      <th>0</th>\n",
       "      <td>1</td>\n",
       "      <td>acl1</td>\n",
       "      <td>1</td>\n",
       "      <td>dalits are lowlives</td>\n",
       "      <td>hate</td>\n",
       "      <td>notgiven</td>\n",
       "      <td>notgiven</td>\n",
       "      <td>original</td>\n",
       "      <td>train</td>\n",
       "      <td>1</td>\n",
       "      <td>GNZuCtwed3</td>\n",
       "      <td>1</td>\n",
       "      <td>NaN</td>\n",
       "    </tr>\n",
       "    <tr>\n",
       "      <th>1</th>\n",
       "      <td>2</td>\n",
       "      <td>acl10</td>\n",
       "      <td>2</td>\n",
       "      <td>gay people are a burden to our society</td>\n",
       "      <td>hate</td>\n",
       "      <td>notgiven</td>\n",
       "      <td>notgiven</td>\n",
       "      <td>original</td>\n",
       "      <td>train</td>\n",
       "      <td>1</td>\n",
       "      <td>GNZuCtwed3</td>\n",
       "      <td>1</td>\n",
       "      <td>NaN</td>\n",
       "    </tr>\n",
       "    <tr>\n",
       "      <th>2</th>\n",
       "      <td>3</td>\n",
       "      <td>acl100</td>\n",
       "      <td>3</td>\n",
       "      <td>Arabs are not welcome</td>\n",
       "      <td>hate</td>\n",
       "      <td>notgiven</td>\n",
       "      <td>notgiven</td>\n",
       "      <td>original</td>\n",
       "      <td>train</td>\n",
       "      <td>1</td>\n",
       "      <td>vDe7GN0NrL</td>\n",
       "      <td>1</td>\n",
       "      <td>NaN</td>\n",
       "    </tr>\n",
       "    <tr>\n",
       "      <th>3</th>\n",
       "      <td>4</td>\n",
       "      <td>acl1000</td>\n",
       "      <td>4</td>\n",
       "      <td>I'm not saying we should actually eliminate he...</td>\n",
       "      <td>hate</td>\n",
       "      <td>notgiven</td>\n",
       "      <td>notgiven</td>\n",
       "      <td>original</td>\n",
       "      <td>train</td>\n",
       "      <td>1</td>\n",
       "      <td>oemYWm1Tjg</td>\n",
       "      <td>1</td>\n",
       "      <td>NaN</td>\n",
       "    </tr>\n",
       "    <tr>\n",
       "      <th>4</th>\n",
       "      <td>5</td>\n",
       "      <td>acl10000</td>\n",
       "      <td>5</td>\n",
       "      <td>bananas are for black people</td>\n",
       "      <td>hate</td>\n",
       "      <td>notgiven</td>\n",
       "      <td>notgiven</td>\n",
       "      <td>original</td>\n",
       "      <td>test</td>\n",
       "      <td>1</td>\n",
       "      <td>QiOKkCi7F8</td>\n",
       "      <td>1</td>\n",
       "      <td>NaN</td>\n",
       "    </tr>\n",
       "  </tbody>\n",
       "</table>\n",
       "</div>"
      ],
      "text/plain": [
       "   Unnamed: 0    acl.id  X1  \\\n",
       "0           1      acl1   1   \n",
       "1           2     acl10   2   \n",
       "2           3    acl100   3   \n",
       "3           4   acl1000   4   \n",
       "4           5  acl10000   5   \n",
       "\n",
       "                                                text label      type  \\\n",
       "0                                dalits are lowlives  hate  notgiven   \n",
       "1             gay people are a burden to our society  hate  notgiven   \n",
       "2                              Arabs are not welcome  hate  notgiven   \n",
       "3  I'm not saying we should actually eliminate he...  hate  notgiven   \n",
       "4                       bananas are for black people  hate  notgiven   \n",
       "\n",
       "     target     level  split  round.base   annotator round acl.id.matched  \n",
       "0  notgiven  original  train           1  GNZuCtwed3     1            NaN  \n",
       "1  notgiven  original  train           1  GNZuCtwed3     1            NaN  \n",
       "2  notgiven  original  train           1  vDe7GN0NrL     1            NaN  \n",
       "3  notgiven  original  train           1  oemYWm1Tjg     1            NaN  \n",
       "4  notgiven  original   test           1  QiOKkCi7F8     1            NaN  "
      ]
     },
     "execution_count": 3,
     "metadata": {},
     "output_type": "execute_result"
    }
   ],
   "source": [
    "## Loading data\n",
    "data = pd.read_csv(\"Dynamically Generated Hate Dataset v0.2.3.csv\")\n",
    "data.head()"
   ]
  },
  {
   "cell_type": "code",
   "execution_count": 49,
   "metadata": {},
   "outputs": [
    {
     "data": {
      "text/plain": [
       "0                                  dalits are lowlives\n",
       "1               gay people are a burden to our society\n",
       "2                                Arabs are not welcome\n",
       "3    I'm not saying we should actually eliminate he...\n",
       "4                         bananas are for black people\n",
       "Name: text, dtype: object"
      ]
     },
     "execution_count": 49,
     "metadata": {},
     "output_type": "execute_result"
    }
   ],
   "source": [
    "## Getting Texts\n",
    "text_data = data['text']\n",
    "text_data[:5]"
   ]
  },
  {
   "cell_type": "code",
   "execution_count": 9,
   "metadata": {},
   "outputs": [
    {
     "data": {
      "text/plain": [
       "0    hate\n",
       "1    hate\n",
       "2    hate\n",
       "3    hate\n",
       "4    hate\n",
       "Name: label, dtype: object"
      ]
     },
     "execution_count": 9,
     "metadata": {},
     "output_type": "execute_result"
    }
   ],
   "source": [
    "## Getting labels for hate and nothate\n",
    "label_data = data['label']\n",
    "label_data[:5]"
   ]
  },
  {
   "cell_type": "code",
   "execution_count": 32,
   "metadata": {},
   "outputs": [
    {
     "data": {
      "text/plain": [
       "label\n",
       "hate       22175\n",
       "nothate    18969\n",
       "Name: count, dtype: int64"
      ]
     },
     "execution_count": 32,
     "metadata": {},
     "output_type": "execute_result"
    }
   ],
   "source": [
    "## Checking number of classes for imbalance\n",
    "label_data.value_counts()"
   ]
  },
  {
   "cell_type": "code",
   "execution_count": 108,
   "metadata": {},
   "outputs": [],
   "source": [
    "## converting labels to nothate = 0 and hate = 1    \n",
    "def convert_labels(label):\n",
    "    if label == \"hate\": return 1\n",
    "    elif label == \"nothate\": return 0\n",
    "    else: raise Exception(\"WRONG LABEL\")\n",
    "\n",
    "clean_label_data = label_data.apply(lambda x: convert_labels(x))"
   ]
  },
  {
   "cell_type": "code",
   "execution_count": 109,
   "metadata": {},
   "outputs": [
    {
     "data": {
      "text/plain": [
       "0    1\n",
       "1    1\n",
       "2    1\n",
       "3    1\n",
       "4    1\n",
       "Name: label, dtype: int64"
      ]
     },
     "execution_count": 109,
     "metadata": {},
     "output_type": "execute_result"
    }
   ],
   "source": [
    "\n",
    "clean_label_data[:5]"
   ]
  },
  {
   "cell_type": "code",
   "execution_count": 41,
   "metadata": {},
   "outputs": [
    {
     "data": {
      "image/png": "[encoded data removed]",
      "text/plain": [
       "<Figure size 640x480 with 1 Axes>"
      ]
     },
     "metadata": {},
     "output_type": "display_data"
    }
   ],
   "source": [
    "##  Visualizing distribution of data\n",
    "colors = sns.color_palette('pastel')[1:3]\n",
    "values = label_data.value_counts().values\n",
    "labels = label_data.value_counts().index\n",
    "plt.pie(x=values, labels=labels, colors=colors, autopct='%.2f%%')\n",
    "plt.title(\"Distribution of data\")\n",
    "plt.show()"
   ]
  },
  {
   "cell_type": "code",
   "execution_count": 133,
   "metadata": {},
   "outputs": [],
   "source": [
    "## Function to remove stopwords from sentences\n",
    "def remove_stopwords(text):\n",
    "    stop_words = stopwords.words('english')\n",
    "    temp = ' '.join([word for word in text.split() if word not in stop_words])\n",
    "    return temp\n",
    "\n",
    "## Function to remove special characters from sentences\n",
    "def remove_special(text):\n",
    "    special_char = ['%','$','#','@','^','_','*','?',';',':','.',',',\"'\"]\n",
    "    for char in special_char:\n",
    "        text = text.replace(char,'')\n",
    "    return text\n",
    "\n",
    "clean_text_data = text_data.apply(lambda x: remove_special(x)).apply(lambda x: remove_stopwords(x))"
   ]
  },
  {
   "cell_type": "code",
   "execution_count": 134,
   "metadata": {},
   "outputs": [
    {
     "data": {
      "text/plain": [
       "0                                      dalits lowlives\n",
       "1                            gay people burden society\n",
       "2                                        Arabs welcome\n",
       "3    Im saying actually eliminate heebs I wish natu...\n",
       "4                                 bananas black people\n",
       "Name: text, dtype: object"
      ]
     },
     "execution_count": 134,
     "metadata": {},
     "output_type": "execute_result"
    }
   ],
   "source": [
    "clean_text_data[:5]"
   ]
  },
  {
   "cell_type": "code",
   "execution_count": 135,
   "metadata": {},
   "outputs": [
    {
     "data": {
      "text/plain": [
       "'Im saying actually eliminate heebs I wish naturally became extinct'"
      ]
     },
     "execution_count": 135,
     "metadata": {},
     "output_type": "execute_result"
    }
   ],
   "source": [
    "clean_text_data"
   ]
  },
  {
   "cell_type": "code",
   "execution_count": 141,
   "metadata": {},
   "outputs": [
    {
     "name": "stdout",
     "output_type": "stream",
     "text": [
      "# of words in longest data point: 10\n"
     ]
    }
   ],
   "source": [
    "## Longest word in data\n",
    "longest_data = len(max(clean_text_data).split())\n",
    "print(\"# of words in longest data point:\", longest_data)"
   ]
  },
  {
   "cell_type": "markdown",
   "metadata": {},
   "source": [
    "## Part 2: Machine Learning Development"
   ]
  },
  {
   "cell_type": "markdown",
   "metadata": {},
   "source": [
    "### Creating Train and Test sets"
   ]
  },
  {
   "cell_type": "code",
   "execution_count": 142,
   "metadata": {},
   "outputs": [],
   "source": [
    "## Splitting train and test data\n",
    "train_X, test_X, train_y, test_y = train_test_split(clean_text_data,    # x data                                       \n",
    "                                                    clean_label_data,   # y data\n",
    "                                                    test_size=0.2,      #in percentage\n",
    "                                                    random_state = 42   #for reproducibility\n",
    "                                                    )"
   ]
  },
  {
   "cell_type": "code",
   "execution_count": 143,
   "metadata": {},
   "outputs": [
    {
     "name": "stdout",
     "output_type": "stream",
     "text": [
      "Number of training data:  32915\n",
      "Number of test data:  8229\n"
     ]
    }
   ],
   "source": [
    "## Showing size of training and test data\n",
    "print(\"Number of training data: \", len(train_x))\n",
    "print(\"Number of test data: \", len(test_x))"
   ]
  },
  {
   "cell_type": "code",
   "execution_count": 144,
   "metadata": {},
   "outputs": [
    {
     "name": "stdout",
     "output_type": "stream",
     "text": [
      "TRAIN X\n",
      "15232                                   head fucking hurts\n",
      "21775    Im gobsmacked behavious tbh She simply doesnt ...\n",
      "22060    messy curly fade classic ladyboy haircut I str...\n",
      "37800                        Muslims terrorists murderers!\n",
      "6010                          yeah bit naive fuck im sorry\n",
      "Name: text, dtype: object\n",
      "TRAIN Y\n",
      "15232    0\n",
      "21775    1\n",
      "22060    1\n",
      "37800    1\n",
      "6010     0\n",
      "Name: label, dtype: int64\n"
     ]
    }
   ],
   "source": [
    "## Showing training data\n",
    "print(\"TRAIN X\")\n",
    "print(train_X[:5])\n",
    "print(\"TRAIN Y\")\n",
    "print(train_y[:5])"
   ]
  },
  {
   "cell_type": "code",
   "execution_count": 145,
   "metadata": {},
   "outputs": [
    {
     "name": "stdout",
     "output_type": "stream",
     "text": [
      "TEST X\n",
      "4750     social services love/hate relationship disable...\n",
      "24147    Yes joke offensive isnt Why people trying hurt...\n",
      "29898    I passions life Im sure build Its almost like ...\n",
      "16529    You better That half-assed comeback attempt I ...\n",
      "12701    Waging war bombing foreign sovereign nation ki...\n",
      "Name: text, dtype: object\n",
      "TEST Y\n",
      "4750     0\n",
      "24147    0\n",
      "29898    0\n",
      "16529    0\n",
      "12701    1\n",
      "Name: label, dtype: int64\n"
     ]
    }
   ],
   "source": [
    "## Showing test data\n",
    "print(\"TEST X\")\n",
    "print(test_X[:5])\n",
    "print(\"TEST Y\")\n",
    "print(test_y[:5])"
   ]
  },
  {
   "cell_type": "markdown",
   "metadata": {},
   "source": [
    "### Tokenizing data (similar to vectorizing)"
   ]
  },
  {
   "cell_type": "code",
   "execution_count": 154,
   "metadata": {},
   "outputs": [],
   "source": [
    "\n",
    "# Tokenize the text data\n",
    "tokenizer = Tokenizer(oov_token=\"<OOV>\", lower=False)\n",
    "tokenizer.fit_on_texts(train_X)\n",
    "\n",
    "def text_tokenizer(text, tokenizer, max_len):\n",
    "    tokenizer = tokenizer\n",
    "    sequences = tokenizer.texts_to_sequences(text)\n",
    "    padded_sequences = pad_sequences(sequences,\n",
    "                                        maxlen=max_len,\n",
    "                                        padding='post', \n",
    "                                        truncating='post'\n",
    "                                        )\n",
    "    return padded_sequences\n",
    "\n",
    "train_sequences = text_tokenizer(train_X, tokenizer, longest_data)\n",
    "test_sequences = text_tokenizer(test_X, tokenizer, longest_data)"
   ]
  },
  {
   "cell_type": "code",
   "execution_count": 155,
   "metadata": {},
   "outputs": [
    {
     "name": "stdout",
     "output_type": "stream",
     "text": [
      "[ 501    9 2152    0    0    0    0    0    0    0]\n",
      "[   14 13736 11388  1464   189   408   100   141    74   381]\n",
      "[ 4191  8401  7456  2274 21474  6758     2   431   652  6172]\n",
      "[  57  443 4974    0    0    0    0    0    0    0]\n",
      "[ 624  384 3476   36  205  435    0    0    0    0]\n"
     ]
    }
   ],
   "source": [
    "## displaying sample sequences\n",
    "for i in range(5):\n",
    "    print(train_sequences[i])"
   ]
  },
  {
   "cell_type": "markdown",
   "metadata": {},
   "source": [
    "### Creating Model"
   ]
  },
  {
   "cell_type": "code",
   "execution_count": null,
   "metadata": {},
   "outputs": [],
   "source": []
  },
  {
   "cell_type": "code",
   "execution_count": null,
   "metadata": {},
   "outputs": [],
   "source": []
  },
  {
   "cell_type": "markdown",
   "metadata": {},
   "source": [
    "### Training Model\n"
   ]
  },
  {
   "cell_type": "code",
   "execution_count": null,
   "metadata": {},
   "outputs": [],
   "source": []
  },
  {
   "cell_type": "code",
   "execution_count": null,
   "metadata": {},
   "outputs": [],
   "source": []
  },
  {
   "cell_type": "markdown",
   "metadata": {},
   "source": [
    "## Part 3: Evaluation and Saving"
   ]
  },
  {
   "cell_type": "markdown",
   "metadata": {},
   "source": [
    "### Displaying Results"
   ]
  },
  {
   "cell_type": "code",
   "execution_count": null,
   "metadata": {},
   "outputs": [],
   "source": []
  },
  {
   "cell_type": "code",
   "execution_count": null,
   "metadata": {},
   "outputs": [],
   "source": []
  },
  {
   "cell_type": "markdown",
   "metadata": {},
   "source": [
    "### Testing"
   ]
  },
  {
   "cell_type": "code",
   "execution_count": null,
   "metadata": {},
   "outputs": [],
   "source": []
  },
  {
   "cell_type": "code",
   "execution_count": null,
   "metadata": {},
   "outputs": [],
   "source": []
  },
  {
   "cell_type": "markdown",
   "metadata": {},
   "source": [
    "### Saving Model"
   ]
  },
  {
   "cell_type": "code",
   "execution_count": null,
   "metadata": {},
   "outputs": [],
   "source": []
  }
 ],
 "metadata": {
  "kernelspec": {
   "display_name": "Python 3",
   "language": "python",
   "name": "python3"
  },
  "language_info": {
   "codemirror_mode": {
    "name": "ipython",
    "version": 3
   },
   "file_extension": ".py",
   "mimetype": "text/x-python",
   "name": "python",
   "nbconvert_exporter": "python",
   "pygments_lexer": "ipython3",
   "version": "3.9.13"
  }
 },
 "nbformat": 4,
 "nbformat_minor": 2
}
